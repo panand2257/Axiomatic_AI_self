{
 "cells": [
  {
   "cell_type": "code",
   "execution_count": 2,
   "metadata": {},
   "outputs": [],
   "source": [
    "## NVIDIA Omniverse\n",
    "#Exercise 1: Basic Scene Creation and Ray Tracing"
   ]
  },
  {
   "cell_type": "code",
   "execution_count": 3,
   "metadata": {},
   "outputs": [
    {
     "name": "stdout",
     "output_type": "stream",
     "text": [
      "Collecting pythreejs\n",
      "  Downloading pythreejs-2.4.2-py3-none-any.whl.metadata (5.4 kB)\n",
      "Collecting ipywidgets>=7.2.1 (from pythreejs)\n",
      "  Downloading ipywidgets-8.1.3-py3-none-any.whl.metadata (2.4 kB)\n",
      "Collecting ipydatawidgets>=1.1.1 (from pythreejs)\n",
      "  Downloading ipydatawidgets-4.3.5-py2.py3-none-any.whl.metadata (1.4 kB)\n",
      "Collecting numpy (from pythreejs)\n",
      "  Downloading numpy-2.0.0-cp311-cp311-win_amd64.whl.metadata (60 kB)\n",
      "     ---------------------------------------- 0.0/60.9 kB ? eta -:--:--\n",
      "     ---------------------------------------- 60.9/60.9 kB 1.6 MB/s eta 0:00:00\n",
      "Requirement already satisfied: traitlets in c:\\axiomatic\\axiomatic_ai_self\\.venv\\lib\\site-packages (from pythreejs) (5.14.3)\n",
      "Collecting traittypes>=0.2.0 (from ipydatawidgets>=1.1.1->pythreejs)\n",
      "  Downloading traittypes-0.2.1-py2.py3-none-any.whl.metadata (1.0 kB)\n",
      "Requirement already satisfied: comm>=0.1.3 in c:\\axiomatic\\axiomatic_ai_self\\.venv\\lib\\site-packages (from ipywidgets>=7.2.1->pythreejs) (0.2.2)\n",
      "Requirement already satisfied: ipython>=6.1.0 in c:\\axiomatic\\axiomatic_ai_self\\.venv\\lib\\site-packages (from ipywidgets>=7.2.1->pythreejs) (8.26.0)\n",
      "Collecting widgetsnbextension~=4.0.11 (from ipywidgets>=7.2.1->pythreejs)\n",
      "  Downloading widgetsnbextension-4.0.11-py3-none-any.whl.metadata (1.6 kB)\n",
      "Collecting jupyterlab-widgets~=3.0.11 (from ipywidgets>=7.2.1->pythreejs)\n",
      "  Downloading jupyterlab_widgets-3.0.11-py3-none-any.whl.metadata (4.1 kB)\n",
      "Requirement already satisfied: decorator in c:\\axiomatic\\axiomatic_ai_self\\.venv\\lib\\site-packages (from ipython>=6.1.0->ipywidgets>=7.2.1->pythreejs) (5.1.1)\n",
      "Requirement already satisfied: jedi>=0.16 in c:\\axiomatic\\axiomatic_ai_self\\.venv\\lib\\site-packages (from ipython>=6.1.0->ipywidgets>=7.2.1->pythreejs) (0.19.1)\n",
      "Requirement already satisfied: matplotlib-inline in c:\\axiomatic\\axiomatic_ai_self\\.venv\\lib\\site-packages (from ipython>=6.1.0->ipywidgets>=7.2.1->pythreejs) (0.1.7)\n",
      "Requirement already satisfied: prompt-toolkit<3.1.0,>=3.0.41 in c:\\axiomatic\\axiomatic_ai_self\\.venv\\lib\\site-packages (from ipython>=6.1.0->ipywidgets>=7.2.1->pythreejs) (3.0.47)\n",
      "Requirement already satisfied: pygments>=2.4.0 in c:\\axiomatic\\axiomatic_ai_self\\.venv\\lib\\site-packages (from ipython>=6.1.0->ipywidgets>=7.2.1->pythreejs) (2.18.0)\n",
      "Requirement already satisfied: stack-data in c:\\axiomatic\\axiomatic_ai_self\\.venv\\lib\\site-packages (from ipython>=6.1.0->ipywidgets>=7.2.1->pythreejs) (0.6.3)\n",
      "Requirement already satisfied: typing-extensions>=4.6 in c:\\axiomatic\\axiomatic_ai_self\\.venv\\lib\\site-packages (from ipython>=6.1.0->ipywidgets>=7.2.1->pythreejs) (4.12.2)\n",
      "Requirement already satisfied: colorama in c:\\axiomatic\\axiomatic_ai_self\\.venv\\lib\\site-packages (from ipython>=6.1.0->ipywidgets>=7.2.1->pythreejs) (0.4.6)\n",
      "Requirement already satisfied: parso<0.9.0,>=0.8.3 in c:\\axiomatic\\axiomatic_ai_self\\.venv\\lib\\site-packages (from jedi>=0.16->ipython>=6.1.0->ipywidgets>=7.2.1->pythreejs) (0.8.4)\n",
      "Requirement already satisfied: wcwidth in c:\\axiomatic\\axiomatic_ai_self\\.venv\\lib\\site-packages (from prompt-toolkit<3.1.0,>=3.0.41->ipython>=6.1.0->ipywidgets>=7.2.1->pythreejs) (0.2.13)\n",
      "Requirement already satisfied: executing>=1.2.0 in c:\\axiomatic\\axiomatic_ai_self\\.venv\\lib\\site-packages (from stack-data->ipython>=6.1.0->ipywidgets>=7.2.1->pythreejs) (2.0.1)\n",
      "Requirement already satisfied: asttokens>=2.1.0 in c:\\axiomatic\\axiomatic_ai_self\\.venv\\lib\\site-packages (from stack-data->ipython>=6.1.0->ipywidgets>=7.2.1->pythreejs) (2.4.1)\n",
      "Requirement already satisfied: pure-eval in c:\\axiomatic\\axiomatic_ai_self\\.venv\\lib\\site-packages (from stack-data->ipython>=6.1.0->ipywidgets>=7.2.1->pythreejs) (0.2.2)\n",
      "Requirement already satisfied: six>=1.12.0 in c:\\axiomatic\\axiomatic_ai_self\\.venv\\lib\\site-packages (from asttokens>=2.1.0->stack-data->ipython>=6.1.0->ipywidgets>=7.2.1->pythreejs) (1.16.0)\n",
      "Downloading pythreejs-2.4.2-py3-none-any.whl (3.4 MB)\n",
      "   ---------------------------------------- 0.0/3.4 MB ? eta -:--:--\n",
      "   --- ------------------------------------ 0.3/3.4 MB 5.7 MB/s eta 0:00:01\n",
      "   --------- ------------------------------ 0.8/3.4 MB 8.5 MB/s eta 0:00:01\n",
      "   --------------- ------------------------ 1.3/3.4 MB 9.3 MB/s eta 0:00:01\n",
      "   -------------------- ------------------- 1.7/3.4 MB 9.1 MB/s eta 0:00:01\n",
      "   ------------------------- -------------- 2.2/3.4 MB 9.3 MB/s eta 0:00:01\n",
      "   -------------------------------- ------- 2.7/3.4 MB 10.3 MB/s eta 0:00:01\n",
      "   -------------------------------------- - 3.2/3.4 MB 9.8 MB/s eta 0:00:01\n",
      "   ---------------------------------------- 3.4/3.4 MB 8.9 MB/s eta 0:00:00\n",
      "Downloading ipydatawidgets-4.3.5-py2.py3-none-any.whl (271 kB)\n",
      "   ---------------------------------------- 0.0/271.7 kB ? eta -:--:--\n",
      "   ---------------------------------------- 271.7/271.7 kB 8.4 MB/s eta 0:00:00\n",
      "Downloading ipywidgets-8.1.3-py3-none-any.whl (139 kB)\n",
      "   ---------------------------------------- 0.0/139.4 kB ? eta -:--:--\n",
      "   ---------------------------------------- 139.4/139.4 kB 8.1 MB/s eta 0:00:00\n",
      "Downloading numpy-2.0.0-cp311-cp311-win_amd64.whl (16.5 MB)\n",
      "   ---------------------------------------- 0.0/16.5 MB ? eta -:--:--\n",
      "   - -------------------------------------- 0.5/16.5 MB 29.4 MB/s eta 0:00:01\n",
      "   -- ------------------------------------- 0.9/16.5 MB 15.0 MB/s eta 0:00:02\n",
      "   --- ------------------------------------ 1.6/16.5 MB 14.2 MB/s eta 0:00:02\n",
      "   ----- ---------------------------------- 2.2/16.5 MB 14.2 MB/s eta 0:00:02\n",
      "   ------ --------------------------------- 2.8/16.5 MB 13.8 MB/s eta 0:00:01\n",
      "   -------- ------------------------------- 3.6/16.5 MB 14.5 MB/s eta 0:00:01\n",
      "   ---------- ----------------------------- 4.2/16.5 MB 14.2 MB/s eta 0:00:01\n",
      "   ------------ --------------------------- 5.0/16.5 MB 14.6 MB/s eta 0:00:01\n",
      "   -------------- ------------------------- 5.8/16.5 MB 14.9 MB/s eta 0:00:01\n",
      "   ---------------- ----------------------- 6.6/16.5 MB 15.1 MB/s eta 0:00:01\n",
      "   ------------------ --------------------- 7.5/16.5 MB 15.4 MB/s eta 0:00:01\n",
      "   -------------------- ------------------- 8.3/16.5 MB 15.7 MB/s eta 0:00:01\n",
      "   ---------------------- ----------------- 9.4/16.5 MB 16.3 MB/s eta 0:00:01\n",
      "   ------------------------ --------------- 10.1/16.5 MB 16.1 MB/s eta 0:00:01\n",
      "   --------------------------- ------------ 11.2/16.5 MB 16.8 MB/s eta 0:00:01\n",
      "   --------------------------- ------------ 11.5/16.5 MB 17.2 MB/s eta 0:00:01\n",
      "   ------------------------------ --------- 12.4/16.5 MB 16.8 MB/s eta 0:00:01\n",
      "   ------------------------------- -------- 13.0/16.5 MB 16.8 MB/s eta 0:00:01\n",
      "   -------------------------------- ------- 13.6/16.5 MB 16.4 MB/s eta 0:00:01\n",
      "   ---------------------------------- ----- 14.2/16.5 MB 16.4 MB/s eta 0:00:01\n",
      "   ----------------------------------- ---- 14.8/16.5 MB 16.0 MB/s eta 0:00:01\n",
      "   ------------------------------------- -- 15.3/16.5 MB 16.0 MB/s eta 0:00:01\n",
      "   -------------------------------------- - 15.9/16.5 MB 16.0 MB/s eta 0:00:01\n",
      "   ---------------------------------------  16.4/16.5 MB 15.2 MB/s eta 0:00:01\n",
      "   ---------------------------------------  16.5/16.5 MB 14.6 MB/s eta 0:00:01\n",
      "   ---------------------------------------- 16.5/16.5 MB 13.9 MB/s eta 0:00:00\n",
      "Downloading jupyterlab_widgets-3.0.11-py3-none-any.whl (214 kB)\n",
      "   ---------------------------------------- 0.0/214.4 kB ? eta -:--:--\n",
      "   ------------------------------------- - 204.8/214.4 kB 12.2 MB/s eta 0:00:01\n",
      "   ---------------------------------------- 214.4/214.4 kB 4.3 MB/s eta 0:00:00\n",
      "Downloading traittypes-0.2.1-py2.py3-none-any.whl (8.6 kB)\n",
      "Downloading widgetsnbextension-4.0.11-py3-none-any.whl (2.3 MB)\n",
      "   ---------------------------------------- 0.0/2.3 MB ? eta -:--:--\n",
      "   ----------- ---------------------------- 0.7/2.3 MB 21.5 MB/s eta 0:00:01\n",
      "   -------------------------------- ------- 1.9/2.3 MB 24.2 MB/s eta 0:00:01\n",
      "   ------------------------------------- -- 2.2/2.3 MB 17.2 MB/s eta 0:00:01\n",
      "   ---------------------------------------- 2.3/2.3 MB 14.9 MB/s eta 0:00:00\n",
      "Installing collected packages: widgetsnbextension, traittypes, numpy, jupyterlab-widgets, ipywidgets, ipydatawidgets, pythreejs\n",
      "Successfully installed ipydatawidgets-4.3.5 ipywidgets-8.1.3 jupyterlab-widgets-3.0.11 numpy-2.0.0 pythreejs-2.4.2 traittypes-0.2.1 widgetsnbextension-4.0.11\n"
     ]
    }
   ],
   "source": [
    "!pip install pythreejs"
   ]
  },
  {
   "cell_type": "code",
   "execution_count": 4,
   "metadata": {},
   "outputs": [],
   "source": [
    "import pythreejs as three\n",
    "from IPython.display import display"
   ]
  },
  {
   "cell_type": "code",
   "execution_count": 5,
   "metadata": {},
   "outputs": [],
   "source": [
    "#Create a scene\n",
    "scene = three.Scene()"
   ]
  },
  {
   "cell_type": "code",
   "execution_count": null,
   "metadata": {},
   "outputs": [],
   "source": [
    "#Create a Camera\n",
    "camera = three.PerspectiveCamera(position=[0,5,5], up = [0,1,0], lookAt =[0,0,0])"
   ]
  },
  {
   "cell_type": "code",
   "execution_count": null,
   "metadata": {},
   "outputs": [],
   "source": [
    "#Create a Renderer\n",
    "renderer = three.Renderer(camera=camera, scene=scene, controls=[three.OrbitControl(controlling=camera)])"
   ]
  },
  {
   "cell_type": "code",
   "execution_count": null,
   "metadata": {},
   "outputs": [],
   "source": []
  }
 ],
 "metadata": {
  "kernelspec": {
   "display_name": ".venv",
   "language": "python",
   "name": "python3"
  },
  "language_info": {
   "codemirror_mode": {
    "name": "ipython",
    "version": 3
   },
   "file_extension": ".py",
   "mimetype": "text/x-python",
   "name": "python",
   "nbconvert_exporter": "python",
   "pygments_lexer": "ipython3",
   "version": "3.11.4"
  }
 },
 "nbformat": 4,
 "nbformat_minor": 2
}
