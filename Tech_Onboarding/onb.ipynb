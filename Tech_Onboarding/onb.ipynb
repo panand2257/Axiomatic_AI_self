{
 "cells": [
  {
   "cell_type": "code",
   "execution_count": 1,
   "metadata": {},
   "outputs": [],
   "source": [
    "## NVIDIA Omniverse\n",
    "#Exercise 1: Basic Scene Creation and Ray Tracing"
   ]
  },
  {
   "cell_type": "code",
   "execution_count": 2,
   "metadata": {},
   "outputs": [
    {
     "name": "stdout",
     "output_type": "stream",
     "text": [
      "Collecting pythreejs\n",
      "  Using cached pythreejs-2.4.2-py3-none-any.whl.metadata (5.4 kB)\n",
      "Collecting ipywidgets>=7.2.1 (from pythreejs)\n",
      "  Using cached ipywidgets-8.1.3-py3-none-any.whl.metadata (2.4 kB)\n",
      "Collecting ipydatawidgets>=1.1.1 (from pythreejs)\n",
      "  Using cached ipydatawidgets-4.3.5-py2.py3-none-any.whl.metadata (1.4 kB)\n",
      "Collecting numpy (from pythreejs)\n",
      "  Downloading numpy-2.0.0-cp312-cp312-win_amd64.whl.metadata (60 kB)\n",
      "     ---------------------------------------- 0.0/60.9 kB ? eta -:--:--\n",
      "     ------------ ------------------------- 20.5/60.9 kB 640.0 kB/s eta 0:00:01\n",
      "     ------------------------------- ------ 51.2/60.9 kB 650.2 kB/s eta 0:00:01\n",
      "     -------------------------------------- 60.9/60.9 kB 649.5 kB/s eta 0:00:00\n",
      "Requirement already satisfied: traitlets in c:\\axiomatic\\axiomatic_ai_self\\.conda\\lib\\site-packages (from pythreejs) (5.14.3)\n",
      "Collecting traittypes>=0.2.0 (from ipydatawidgets>=1.1.1->pythreejs)\n",
      "  Using cached traittypes-0.2.1-py2.py3-none-any.whl.metadata (1.0 kB)\n",
      "Requirement already satisfied: comm>=0.1.3 in c:\\axiomatic\\axiomatic_ai_self\\.conda\\lib\\site-packages (from ipywidgets>=7.2.1->pythreejs) (0.2.2)\n",
      "Requirement already satisfied: ipython>=6.1.0 in c:\\axiomatic\\axiomatic_ai_self\\.conda\\lib\\site-packages (from ipywidgets>=7.2.1->pythreejs) (8.26.0)\n",
      "Collecting widgetsnbextension~=4.0.11 (from ipywidgets>=7.2.1->pythreejs)\n",
      "  Using cached widgetsnbextension-4.0.11-py3-none-any.whl.metadata (1.6 kB)\n",
      "Collecting jupyterlab-widgets~=3.0.11 (from ipywidgets>=7.2.1->pythreejs)\n",
      "  Using cached jupyterlab_widgets-3.0.11-py3-none-any.whl.metadata (4.1 kB)\n",
      "Requirement already satisfied: decorator in c:\\axiomatic\\axiomatic_ai_self\\.conda\\lib\\site-packages (from ipython>=6.1.0->ipywidgets>=7.2.1->pythreejs) (5.1.1)\n",
      "Requirement already satisfied: jedi>=0.16 in c:\\axiomatic\\axiomatic_ai_self\\.conda\\lib\\site-packages (from ipython>=6.1.0->ipywidgets>=7.2.1->pythreejs) (0.19.1)\n",
      "Requirement already satisfied: matplotlib-inline in c:\\axiomatic\\axiomatic_ai_self\\.conda\\lib\\site-packages (from ipython>=6.1.0->ipywidgets>=7.2.1->pythreejs) (0.1.7)\n",
      "Requirement already satisfied: prompt-toolkit<3.1.0,>=3.0.41 in c:\\axiomatic\\axiomatic_ai_self\\.conda\\lib\\site-packages (from ipython>=6.1.0->ipywidgets>=7.2.1->pythreejs) (3.0.47)\n",
      "Requirement already satisfied: pygments>=2.4.0 in c:\\axiomatic\\axiomatic_ai_self\\.conda\\lib\\site-packages (from ipython>=6.1.0->ipywidgets>=7.2.1->pythreejs) (2.18.0)\n",
      "Requirement already satisfied: stack-data in c:\\axiomatic\\axiomatic_ai_self\\.conda\\lib\\site-packages (from ipython>=6.1.0->ipywidgets>=7.2.1->pythreejs) (0.6.2)\n",
      "Requirement already satisfied: colorama in c:\\axiomatic\\axiomatic_ai_self\\.conda\\lib\\site-packages (from ipython>=6.1.0->ipywidgets>=7.2.1->pythreejs) (0.4.6)\n",
      "Requirement already satisfied: parso<0.9.0,>=0.8.3 in c:\\axiomatic\\axiomatic_ai_self\\.conda\\lib\\site-packages (from jedi>=0.16->ipython>=6.1.0->ipywidgets>=7.2.1->pythreejs) (0.8.4)\n",
      "Requirement already satisfied: wcwidth in c:\\axiomatic\\axiomatic_ai_self\\.conda\\lib\\site-packages (from prompt-toolkit<3.1.0,>=3.0.41->ipython>=6.1.0->ipywidgets>=7.2.1->pythreejs) (0.2.13)\n",
      "Requirement already satisfied: executing>=1.2.0 in c:\\axiomatic\\axiomatic_ai_self\\.conda\\lib\\site-packages (from stack-data->ipython>=6.1.0->ipywidgets>=7.2.1->pythreejs) (2.0.1)\n",
      "Requirement already satisfied: asttokens>=2.1.0 in c:\\axiomatic\\axiomatic_ai_self\\.conda\\lib\\site-packages (from stack-data->ipython>=6.1.0->ipywidgets>=7.2.1->pythreejs) (2.4.1)\n",
      "Requirement already satisfied: pure-eval in c:\\axiomatic\\axiomatic_ai_self\\.conda\\lib\\site-packages (from stack-data->ipython>=6.1.0->ipywidgets>=7.2.1->pythreejs) (0.2.2)\n",
      "Requirement already satisfied: six>=1.12.0 in c:\\axiomatic\\axiomatic_ai_self\\.conda\\lib\\site-packages (from asttokens>=2.1.0->stack-data->ipython>=6.1.0->ipywidgets>=7.2.1->pythreejs) (1.16.0)\n",
      "Using cached pythreejs-2.4.2-py3-none-any.whl (3.4 MB)\n",
      "Using cached ipydatawidgets-4.3.5-py2.py3-none-any.whl (271 kB)\n",
      "Using cached ipywidgets-8.1.3-py3-none-any.whl (139 kB)\n",
      "Downloading numpy-2.0.0-cp312-cp312-win_amd64.whl (16.2 MB)\n",
      "   ---------------------------------------- 0.0/16.2 MB ? eta -:--:--\n",
      "    --------------------------------------- 0.2/16.2 MB 5.0 MB/s eta 0:00:04\n",
      "   - -------------------------------------- 0.7/16.2 MB 7.7 MB/s eta 0:00:03\n",
      "   --- ------------------------------------ 1.3/16.2 MB 9.4 MB/s eta 0:00:02\n",
      "   ---- ----------------------------------- 1.6/16.2 MB 8.7 MB/s eta 0:00:02\n",
      "   ---- ----------------------------------- 2.0/16.2 MB 8.3 MB/s eta 0:00:02\n",
      "   ----- ---------------------------------- 2.3/16.2 MB 9.0 MB/s eta 0:00:02\n",
      "   ------ --------------------------------- 2.6/16.2 MB 7.9 MB/s eta 0:00:02\n",
      "   ------ --------------------------------- 2.7/16.2 MB 8.3 MB/s eta 0:00:02\n",
      "   ------ --------------------------------- 2.7/16.2 MB 8.3 MB/s eta 0:00:02\n",
      "   ------ --------------------------------- 2.7/16.2 MB 8.3 MB/s eta 0:00:02\n",
      "   ------ --------------------------------- 2.7/16.2 MB 8.3 MB/s eta 0:00:02\n",
      "   ------- -------------------------------- 3.2/16.2 MB 5.8 MB/s eta 0:00:03\n",
      "   -------- ------------------------------- 3.3/16.2 MB 5.7 MB/s eta 0:00:03\n",
      "   --------- ------------------------------ 3.8/16.2 MB 5.8 MB/s eta 0:00:03\n",
      "   ---------- ----------------------------- 4.2/16.2 MB 5.9 MB/s eta 0:00:03\n",
      "   ----------- ---------------------------- 4.8/16.2 MB 6.4 MB/s eta 0:00:02\n",
      "   ------------- -------------------------- 5.6/16.2 MB 7.0 MB/s eta 0:00:02\n",
      "   --------------- ------------------------ 6.3/16.2 MB 7.5 MB/s eta 0:00:02\n",
      "   ----------------- ---------------------- 7.1/16.2 MB 8.1 MB/s eta 0:00:02\n",
      "   ------------------- -------------------- 8.0/16.2 MB 8.6 MB/s eta 0:00:01\n",
      "   --------------------- ------------------ 8.9/16.2 MB 9.2 MB/s eta 0:00:01\n",
      "   ------------------------ --------------- 9.8/16.2 MB 9.6 MB/s eta 0:00:01\n",
      "   -------------------------- ------------- 10.9/16.2 MB 10.4 MB/s eta 0:00:01\n",
      "   ----------------------------- ---------- 11.9/16.2 MB 11.1 MB/s eta 0:00:01\n",
      "   ------------------------------- -------- 13.0/16.2 MB 12.1 MB/s eta 0:00:01\n",
      "   ---------------------------------- ----- 14.0/16.2 MB 18.7 MB/s eta 0:00:01\n",
      "   ------------------------------------- -- 15.2/16.2 MB 20.5 MB/s eta 0:00:01\n",
      "   ---------------------------------------  16.2/16.2 MB 21.9 MB/s eta 0:00:01\n",
      "   ---------------------------------------- 16.2/16.2 MB 20.5 MB/s eta 0:00:00\n",
      "Using cached jupyterlab_widgets-3.0.11-py3-none-any.whl (214 kB)\n",
      "Using cached traittypes-0.2.1-py2.py3-none-any.whl (8.6 kB)\n",
      "Using cached widgetsnbextension-4.0.11-py3-none-any.whl (2.3 MB)\n",
      "Installing collected packages: widgetsnbextension, traittypes, numpy, jupyterlab-widgets, ipywidgets, ipydatawidgets, pythreejs\n",
      "Successfully installed ipydatawidgets-4.3.5 ipywidgets-8.1.3 jupyterlab-widgets-3.0.11 numpy-2.0.0 pythreejs-2.4.2 traittypes-0.2.1 widgetsnbextension-4.0.11\n",
      "Note: you may need to restart the kernel to use updated packages.\n"
     ]
    }
   ],
   "source": [
    "%pip install pythreejs"
   ]
  },
  {
   "cell_type": "code",
   "execution_count": 3,
   "metadata": {},
   "outputs": [],
   "source": [
    "import pythreejs as three\n",
    "from IPython.display import display"
   ]
  },
  {
   "cell_type": "code",
   "execution_count": 4,
   "metadata": {},
   "outputs": [],
   "source": [
    "#Create a scene\n",
    "scene = three.Scene()"
   ]
  },
  {
   "cell_type": "code",
   "execution_count": 5,
   "metadata": {},
   "outputs": [
    {
     "name": "stdout",
     "output_type": "stream",
     "text": [
      "PerspectiveCamera(position=(0.0, 5.0, 5.0), projectionMatrix=(1.0, 0.0, 0.0, 0.0, 0.0, 1.0, 0.0, 0.0, 0.0, 0.0, 1.0, 0.0, 0.0, 0.0, 0.0, 1.0), quaternion=(0.0, 0.0, 0.0, 1.0), rotation=(0.0, 0.0, 0.0, 'XYZ'), scale=(1.0, 1.0, 1.0), up=(0.0, 1.0, 0.0))\n"
     ]
    }
   ],
   "source": [
    "import pythreejs as three\n",
    "\n",
    "# Create a simple PerspectiveCamera\n",
    "camera = three.PerspectiveCamera(position=[0, 5, 5], up=[0, 1, 0], lookAt=[0, 0, 0])\n",
    "print(camera)\n"
   ]
  },
  {
   "cell_type": "code",
   "execution_count": 7,
   "metadata": {},
   "outputs": [],
   "source": [
    "#Create a Camera\n",
    "camera = three.PerspectiveCamera(position=[0,5,5], up = [0,1,0], lookAt =[0,0,0])\n",
    "#Create a Renderer\n",
    "renderer = three.Renderer(camera=camera, scene=scene, controls=[three.OrbitControls(controlling=camera)])\n",
    "#Add a light source\n",
    "light = three.DirectionalLight(position=[3,5,1], intensity=0.6)\n",
    "scene.add(light)"
   ]
  },
  {
   "cell_type": "code",
   "execution_count": 23,
   "metadata": {},
   "outputs": [
    {
     "ename": "AttributeError",
     "evalue": "'Mesh' object has no attribute 'rotate'",
     "output_type": "error",
     "traceback": [
      "\u001b[1;31m---------------------------------------------------------------------------\u001b[0m",
      "\u001b[1;31mAttributeError\u001b[0m                            Traceback (most recent call last)",
      "Cell \u001b[1;32mIn[23], line 19\u001b[0m\n\u001b[0;32m     17\u001b[0m \u001b[38;5;66;03m# Set rotation using Euler angles\u001b[39;00m\n\u001b[0;32m     18\u001b[0m roll, pitch, yaw \u001b[38;5;241m=\u001b[39m \u001b[38;5;241m1.5708\u001b[39m, \u001b[38;5;241m0\u001b[39m, \u001b[38;5;241m0\u001b[39m  \u001b[38;5;66;03m# Example Euler angles in radians\u001b[39;00m\n\u001b[1;32m---> 19\u001b[0m \u001b[43mplane\u001b[49m\u001b[38;5;241;43m.\u001b[39;49m\u001b[43mrotate\u001b[49m(three\u001b[38;5;241m.\u001b[39mpi \u001b[38;5;241m/\u001b[39m \u001b[38;5;241m2\u001b[39m, \u001b[38;5;241m0\u001b[39m, \u001b[38;5;241m0\u001b[39m)\n\u001b[0;32m     20\u001b[0m plane\u001b[38;5;241m.\u001b[39mposition \u001b[38;5;241m=\u001b[39m [\u001b[38;5;241m0\u001b[39m, \u001b[38;5;241m-\u001b[39m\u001b[38;5;241m1\u001b[39m, \u001b[38;5;241m0\u001b[39m]\n",
      "\u001b[1;31mAttributeError\u001b[0m: 'Mesh' object has no attribute 'rotate'"
     ]
    }
   ],
   "source": [
    "# Create objects\n",
    "sphere = three.Mesh(\n",
    "    three.SphereGeometry(radius=1),\n",
    "    three.MeshStandardMaterial(color='red', roughness=0.7, metalness=0.0)\n",
    ")\n",
    "\n",
    "cube = three.Mesh(\n",
    "    three.BoxGeometry(width=1, height=1, depth=1),\n",
    "    three.MeshStandardMaterial(color='blue', roughness=0.7, metalness=0.0)\n",
    ")\n",
    "\n",
    "plane = three.Mesh(\n",
    "    three.PlaneGeometry(width=10, height=10),\n",
    "    three.MeshStandardMaterial(color='green', roughness=0.7, metalness=0.0)\n",
    ")\n",
    "\n",
    "# Set rotation using Euler angles\n",
    "roll, pitch, yaw = 1.5708, 0, 0  # Example Euler angles in radians\n",
    "plane.rotate(three.pi / 2, 0, 0)\n",
    "plane.position = [0, -1, 0]"
   ]
  },
  {
   "cell_type": "code",
   "execution_count": null,
   "metadata": {},
   "outputs": [],
   "source": [
    "# Add objects to the scene\n",
    "scene.add(sphere)\n",
    "scene.add(cube)\n",
    "scene.add(plane)"
   ]
  },
  {
   "cell_type": "code",
   "execution_count": null,
   "metadata": {},
   "outputs": [],
   "source": [
    "# Display the scene\n",
    "display(renderer)"
   ]
  }
 ],
 "metadata": {
  "kernelspec": {
   "display_name": ".venv",
   "language": "python",
   "name": "python3"
  },
  "language_info": {
   "codemirror_mode": {
    "name": "ipython",
    "version": 3
   },
   "file_extension": ".py",
   "mimetype": "text/x-python",
   "name": "python",
   "nbconvert_exporter": "python",
   "pygments_lexer": "ipython3",
   "version": "3.12.4"
  }
 },
 "nbformat": 4,
 "nbformat_minor": 2
}
